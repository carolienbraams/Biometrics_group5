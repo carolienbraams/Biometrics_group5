{
 "cells": [
  {
   "cell_type": "code",
   "execution_count": 7,
   "metadata": {},
   "outputs": [],
   "source": [
    "import os\n",
    "import glob\n",
    "import IPython.display as ipd\n",
    "from pathlib import Path\n",
    "\n",
    "%matplotlib inline\n",
    "import matplotlib.pyplot as plt\n",
    "import cv2\n",
    "from sklearn.model_selection import train_test_split\n",
    "from matplotlib import pyplot as plt\n",
    "import numpy as np\n",
    "\n",
    "from sklearn.preprocessing import LabelEncoder\n",
    "import keras\n",
    "from keras.models import Sequential\n",
    "from keras.layers import Conv2D\n",
    "from sklearn.metrics import confusion_matrix, plot_confusion_matrix"
   ]
  },
  {
   "cell_type": "code",
   "execution_count": 8,
   "metadata": {},
   "outputs": [],
   "source": [
    "DATA_DIR = Path('./frgc32x32/')\n",
    "images = [x.name for x in DATA_DIR.glob('*')]"
   ]
  },
  {
   "cell_type": "code",
   "execution_count": 9,
   "metadata": {},
   "outputs": [],
   "source": [
    "paths_all_labels = []\n",
    "for image in images:\n",
    "    x = image.split(\"d\", 1)\n",
    "    paths_all_labels.append((x[0], './frgc32x32/'+image))"
   ]
  },
  {
   "cell_type": "code",
   "execution_count": 10,
   "metadata": {},
   "outputs": [],
   "source": [
    "def load_and_preprocess(dataset):\n",
    "    data=[]\n",
    "    for (label, path) in dataset:\n",
    "            img = cv2.imread(path)\n",
    "#             print(img.shape)\n",
    "            sample = cv2.resize(img, (32,32))\n",
    "            sample = np.expand_dims(sample,-1)\n",
    "#             print(sample.shape)\n",
    "            data += [(sample, label)]\n",
    "    return data"
   ]
  },
  {
   "cell_type": "code",
   "execution_count": 11,
   "metadata": {},
   "outputs": [
    {
     "data": {
      "text/plain": [
       "[(array([[[[ 52],\n",
       "           [ 52],\n",
       "           [ 52]],\n",
       "  \n",
       "          [[ 45],\n",
       "           [ 45],\n",
       "           [ 45]],\n",
       "  \n",
       "          [[ 57],\n",
       "           [ 57],\n",
       "           [ 57]],\n",
       "  \n",
       "          ...,\n",
       "  \n",
       "          [[105],\n",
       "           [105],\n",
       "           [105]],\n",
       "  \n",
       "          [[ 77],\n",
       "           [ 77],\n",
       "           [ 77]],\n",
       "  \n",
       "          [[ 36],\n",
       "           [ 36],\n",
       "           [ 36]]],\n",
       "  \n",
       "  \n",
       "         [[[ 38],\n",
       "           [ 38],\n",
       "           [ 38]],\n",
       "  \n",
       "          [[ 43],\n",
       "           [ 43],\n",
       "           [ 43]],\n",
       "  \n",
       "          [[ 68],\n",
       "           [ 68],\n",
       "           [ 68]],\n",
       "  \n",
       "          ...,\n",
       "  \n",
       "          [[110],\n",
       "           [110],\n",
       "           [110]],\n",
       "  \n",
       "          [[ 87],\n",
       "           [ 87],\n",
       "           [ 87]],\n",
       "  \n",
       "          [[ 53],\n",
       "           [ 53],\n",
       "           [ 53]]],\n",
       "  \n",
       "  \n",
       "         [[[ 39],\n",
       "           [ 39],\n",
       "           [ 39]],\n",
       "  \n",
       "          [[ 49],\n",
       "           [ 49],\n",
       "           [ 49]],\n",
       "  \n",
       "          [[ 71],\n",
       "           [ 71],\n",
       "           [ 71]],\n",
       "  \n",
       "          ...,\n",
       "  \n",
       "          [[109],\n",
       "           [109],\n",
       "           [109]],\n",
       "  \n",
       "          [[ 86],\n",
       "           [ 86],\n",
       "           [ 86]],\n",
       "  \n",
       "          [[ 63],\n",
       "           [ 63],\n",
       "           [ 63]]],\n",
       "  \n",
       "  \n",
       "         ...,\n",
       "  \n",
       "  \n",
       "         [[[111],\n",
       "           [111],\n",
       "           [111]],\n",
       "  \n",
       "          [[112],\n",
       "           [112],\n",
       "           [112]],\n",
       "  \n",
       "          [[111],\n",
       "           [111],\n",
       "           [111]],\n",
       "  \n",
       "          ...,\n",
       "  \n",
       "          [[118],\n",
       "           [118],\n",
       "           [118]],\n",
       "  \n",
       "          [[104],\n",
       "           [104],\n",
       "           [104]],\n",
       "  \n",
       "          [[107],\n",
       "           [107],\n",
       "           [107]]],\n",
       "  \n",
       "  \n",
       "         [[[111],\n",
       "           [111],\n",
       "           [111]],\n",
       "  \n",
       "          [[110],\n",
       "           [110],\n",
       "           [110]],\n",
       "  \n",
       "          [[113],\n",
       "           [113],\n",
       "           [113]],\n",
       "  \n",
       "          ...,\n",
       "  \n",
       "          [[124],\n",
       "           [124],\n",
       "           [124]],\n",
       "  \n",
       "          [[108],\n",
       "           [108],\n",
       "           [108]],\n",
       "  \n",
       "          [[105],\n",
       "           [105],\n",
       "           [105]]],\n",
       "  \n",
       "  \n",
       "         [[[111],\n",
       "           [111],\n",
       "           [111]],\n",
       "  \n",
       "          [[113],\n",
       "           [113],\n",
       "           [113]],\n",
       "  \n",
       "          [[112],\n",
       "           [112],\n",
       "           [112]],\n",
       "  \n",
       "          ...,\n",
       "  \n",
       "          [[138],\n",
       "           [138],\n",
       "           [138]],\n",
       "  \n",
       "          [[110],\n",
       "           [110],\n",
       "           [110]],\n",
       "  \n",
       "          [[106],\n",
       "           [106],\n",
       "           [106]]]], dtype=uint8), '04301')]"
      ]
     },
     "execution_count": 11,
     "metadata": {},
     "output_type": "execute_result"
    }
   ],
   "source": [
    "#issue: I Dont get the right dimension (32,32,1)\n",
    "load_and_preprocess([paths_all_labels[0]])"
   ]
  },
  {
   "cell_type": "code",
   "execution_count": 12,
   "metadata": {},
   "outputs": [
    {
     "name": "stdout",
     "output_type": "stream",
     "text": [
      "Train length: 8860\n",
      "Validation length: 2216\n",
      "Test length: 1231\n",
      "Total length: 12307\n"
     ]
    }
   ],
   "source": [
    "X_train, X_test = train_test_split(paths_all_labels,test_size=0.1)\n",
    "X_train, X_val = train_test_split(X_train, test_size=0.2)\n",
    "\n",
    "print(f'Train length: {len(X_train)}')\n",
    "print(f'Validation length: {len(X_val)}')\n",
    "print(f'Test length: {len(X_test)}')\n",
    "print(f'Total length: {len(X_test+X_val+X_train)}')"
   ]
  },
  {
   "cell_type": "markdown",
   "metadata": {},
   "source": [
    "---\n",
    "\n",
    "# Load and preprocess --> [train, val, test]"
   ]
  },
  {
   "cell_type": "code",
   "execution_count": 13,
   "metadata": {},
   "outputs": [
    {
     "name": "stdout",
     "output_type": "stream",
     "text": [
      "Sampling...\n",
      "(array([[[[58],\n",
      "         [58],\n",
      "         [58]],\n",
      "\n",
      "        [[67],\n",
      "         [67],\n",
      "         [67]],\n",
      "\n",
      "        [[63],\n",
      "         [63],\n",
      "         [63]],\n",
      "\n",
      "        ...,\n",
      "\n",
      "        [[49],\n",
      "         [49],\n",
      "         [49]],\n",
      "\n",
      "        [[61],\n",
      "         [61],\n",
      "         [61]],\n",
      "\n",
      "        [[52],\n",
      "         [52],\n",
      "         [52]]],\n",
      "\n",
      "\n",
      "       [[[59],\n",
      "         [59],\n",
      "         [59]],\n",
      "\n",
      "        [[86],\n",
      "         [86],\n",
      "         [86]],\n",
      "\n",
      "        [[46],\n",
      "         [46],\n",
      "         [46]],\n",
      "\n",
      "        ...,\n",
      "\n",
      "        [[62],\n",
      "         [62],\n",
      "         [62]],\n",
      "\n",
      "        [[45],\n",
      "         [45],\n",
      "         [45]],\n",
      "\n",
      "        [[46],\n",
      "         [46],\n",
      "         [46]]],\n",
      "\n",
      "\n",
      "       [[[48],\n",
      "         [48],\n",
      "         [48]],\n",
      "\n",
      "        [[44],\n",
      "         [44],\n",
      "         [44]],\n",
      "\n",
      "        [[19],\n",
      "         [19],\n",
      "         [19]],\n",
      "\n",
      "        ...,\n",
      "\n",
      "        [[45],\n",
      "         [45],\n",
      "         [45]],\n",
      "\n",
      "        [[43],\n",
      "         [43],\n",
      "         [43]],\n",
      "\n",
      "        [[60],\n",
      "         [60],\n",
      "         [60]]],\n",
      "\n",
      "\n",
      "       ...,\n",
      "\n",
      "\n",
      "       [[[21],\n",
      "         [21],\n",
      "         [21]],\n",
      "\n",
      "        [[23],\n",
      "         [23],\n",
      "         [23]],\n",
      "\n",
      "        [[20],\n",
      "         [20],\n",
      "         [20]],\n",
      "\n",
      "        ...,\n",
      "\n",
      "        [[19],\n",
      "         [19],\n",
      "         [19]],\n",
      "\n",
      "        [[23],\n",
      "         [23],\n",
      "         [23]],\n",
      "\n",
      "        [[35],\n",
      "         [35],\n",
      "         [35]]],\n",
      "\n",
      "\n",
      "       [[[23],\n",
      "         [23],\n",
      "         [23]],\n",
      "\n",
      "        [[31],\n",
      "         [31],\n",
      "         [31]],\n",
      "\n",
      "        [[30],\n",
      "         [30],\n",
      "         [30]],\n",
      "\n",
      "        ...,\n",
      "\n",
      "        [[23],\n",
      "         [23],\n",
      "         [23]],\n",
      "\n",
      "        [[10],\n",
      "         [10],\n",
      "         [10]],\n",
      "\n",
      "        [[43],\n",
      "         [43],\n",
      "         [43]]],\n",
      "\n",
      "\n",
      "       [[[33],\n",
      "         [33],\n",
      "         [33]],\n",
      "\n",
      "        [[32],\n",
      "         [32],\n",
      "         [32]],\n",
      "\n",
      "        [[31],\n",
      "         [31],\n",
      "         [31]],\n",
      "\n",
      "        ...,\n",
      "\n",
      "        [[37],\n",
      "         [37],\n",
      "         [37]],\n",
      "\n",
      "        [[21],\n",
      "         [21],\n",
      "         [21]],\n",
      "\n",
      "        [[34],\n",
      "         [34],\n",
      "         [34]]]], dtype=uint8), '04633')\n"
     ]
    }
   ],
   "source": [
    "print(\"Sampling...\")\n",
    "X_train_samples = load_and_preprocess(X_train)\n",
    "print(X_train_samples[0])"
   ]
  },
  {
   "cell_type": "code",
   "execution_count": 14,
   "metadata": {},
   "outputs": [
    {
     "name": "stdout",
     "output_type": "stream",
     "text": [
      "Sampling2....\n"
     ]
    }
   ],
   "source": [
    "print(\"Sampling2....\")\n",
    "X_test_samples = load_and_preprocess(X_test)"
   ]
  },
  {
   "cell_type": "code",
   "execution_count": 15,
   "metadata": {},
   "outputs": [
    {
     "name": "stdout",
     "output_type": "stream",
     "text": [
      "Sampling3....\n"
     ]
    }
   ],
   "source": [
    "print(\"Sampling3....\")\n",
    "X_val_samples = load_and_preprocess(X_val)"
   ]
  },
  {
   "cell_type": "code",
   "execution_count": 16,
   "metadata": {},
   "outputs": [
    {
     "name": "stdout",
     "output_type": "stream",
     "text": [
      "(32, 32, 3, 1)\n",
      "8860\n",
      "2216\n",
      "1231\n"
     ]
    }
   ],
   "source": [
    "print(X_train_samples[0][0].shape)\n",
    "print(len(X_train_samples))\n",
    "print(len(X_val_samples))\n",
    "print(len(X_test_samples))\n"
   ]
  },
  {
   "cell_type": "markdown",
   "metadata": {},
   "source": [
    "---\n",
    "# Build the model"
   ]
  },
  {
   "cell_type": "code",
   "execution_count": 17,
   "metadata": {},
   "outputs": [],
   "source": [
    "input_shape = X_train_samples[0][0].shape"
   ]
  },
  {
   "cell_type": "code",
   "execution_count": 142,
   "metadata": {},
   "outputs": [
    {
     "ename": "ValueError",
     "evalue": "Input 0 is incompatible with layer conv2d_1: expected ndim=4, found ndim=5",
     "output_type": "error",
     "traceback": [
      "\u001b[0;31m---------------------------------------------------------------------------\u001b[0m",
      "\u001b[0;31mValueError\u001b[0m                                Traceback (most recent call last)",
      "\u001b[0;32m<ipython-input-142-1fa5d748d9c4>\u001b[0m in \u001b[0;36m<module>\u001b[0;34m\u001b[0m\n\u001b[1;32m      1\u001b[0m \u001b[0;31m#Define Model\u001b[0m\u001b[0;34m\u001b[0m\u001b[0;34m\u001b[0m\u001b[0;34m\u001b[0m\u001b[0m\n\u001b[1;32m      2\u001b[0m \u001b[0mmodel\u001b[0m \u001b[0;34m=\u001b[0m \u001b[0mSequential\u001b[0m\u001b[0;34m(\u001b[0m\u001b[0;34m)\u001b[0m\u001b[0;34m\u001b[0m\u001b[0;34m\u001b[0m\u001b[0m\n\u001b[0;32m----> 3\u001b[0;31m \u001b[0mmodel\u001b[0m\u001b[0;34m.\u001b[0m\u001b[0madd\u001b[0m\u001b[0;34m(\u001b[0m\u001b[0mConv2D\u001b[0m\u001b[0;34m(\u001b[0m\u001b[0;36m32\u001b[0m\u001b[0;34m,\u001b[0m \u001b[0mkernel_size\u001b[0m\u001b[0;34m=\u001b[0m\u001b[0;34m(\u001b[0m\u001b[0;36m3\u001b[0m\u001b[0;34m,\u001b[0m \u001b[0;36m3\u001b[0m\u001b[0;34m)\u001b[0m\u001b[0;34m,\u001b[0m \u001b[0mactivation\u001b[0m\u001b[0;34m=\u001b[0m\u001b[0;34m'relu'\u001b[0m\u001b[0;34m,\u001b[0m \u001b[0minput_shape\u001b[0m\u001b[0;34m=\u001b[0m\u001b[0minput_shape\u001b[0m\u001b[0;34m)\u001b[0m\u001b[0;34m)\u001b[0m\u001b[0;34m\u001b[0m\u001b[0;34m\u001b[0m\u001b[0m\n\u001b[0m\u001b[1;32m      4\u001b[0m \u001b[0;31m# siamese network\u001b[0m\u001b[0;34m\u001b[0m\u001b[0;34m\u001b[0m\u001b[0;34m\u001b[0m\u001b[0m\n\u001b[1;32m      5\u001b[0m \u001b[0;34m\u001b[0m\u001b[0m\n",
      "\u001b[0;32m/usr/local/lib/python3.6/dist-packages/keras/engine/sequential.py\u001b[0m in \u001b[0;36madd\u001b[0;34m(self, layer)\u001b[0m\n\u001b[1;32m    164\u001b[0m                     \u001b[0;31m# and create the node connecting the current layer\u001b[0m\u001b[0;34m\u001b[0m\u001b[0;34m\u001b[0m\u001b[0;34m\u001b[0m\u001b[0m\n\u001b[1;32m    165\u001b[0m                     \u001b[0;31m# to the input layer we just created.\u001b[0m\u001b[0;34m\u001b[0m\u001b[0;34m\u001b[0m\u001b[0;34m\u001b[0m\u001b[0m\n\u001b[0;32m--> 166\u001b[0;31m                     \u001b[0mlayer\u001b[0m\u001b[0;34m(\u001b[0m\u001b[0mx\u001b[0m\u001b[0;34m)\u001b[0m\u001b[0;34m\u001b[0m\u001b[0;34m\u001b[0m\u001b[0m\n\u001b[0m\u001b[1;32m    167\u001b[0m                     \u001b[0mset_inputs\u001b[0m \u001b[0;34m=\u001b[0m \u001b[0;32mTrue\u001b[0m\u001b[0;34m\u001b[0m\u001b[0;34m\u001b[0m\u001b[0m\n\u001b[1;32m    168\u001b[0m             \u001b[0;32melse\u001b[0m\u001b[0;34m:\u001b[0m\u001b[0;34m\u001b[0m\u001b[0;34m\u001b[0m\u001b[0m\n",
      "\u001b[0;32m/usr/local/lib/python3.6/dist-packages/keras/backend/tensorflow_backend.py\u001b[0m in \u001b[0;36msymbolic_fn_wrapper\u001b[0;34m(*args, **kwargs)\u001b[0m\n\u001b[1;32m     73\u001b[0m         \u001b[0;32mif\u001b[0m \u001b[0m_SYMBOLIC_SCOPE\u001b[0m\u001b[0;34m.\u001b[0m\u001b[0mvalue\u001b[0m\u001b[0;34m:\u001b[0m\u001b[0;34m\u001b[0m\u001b[0;34m\u001b[0m\u001b[0m\n\u001b[1;32m     74\u001b[0m             \u001b[0;32mwith\u001b[0m \u001b[0mget_graph\u001b[0m\u001b[0;34m(\u001b[0m\u001b[0;34m)\u001b[0m\u001b[0;34m.\u001b[0m\u001b[0mas_default\u001b[0m\u001b[0;34m(\u001b[0m\u001b[0;34m)\u001b[0m\u001b[0;34m:\u001b[0m\u001b[0;34m\u001b[0m\u001b[0;34m\u001b[0m\u001b[0m\n\u001b[0;32m---> 75\u001b[0;31m                 \u001b[0;32mreturn\u001b[0m \u001b[0mfunc\u001b[0m\u001b[0;34m(\u001b[0m\u001b[0;34m*\u001b[0m\u001b[0margs\u001b[0m\u001b[0;34m,\u001b[0m \u001b[0;34m**\u001b[0m\u001b[0mkwargs\u001b[0m\u001b[0;34m)\u001b[0m\u001b[0;34m\u001b[0m\u001b[0;34m\u001b[0m\u001b[0m\n\u001b[0m\u001b[1;32m     76\u001b[0m         \u001b[0;32melse\u001b[0m\u001b[0;34m:\u001b[0m\u001b[0;34m\u001b[0m\u001b[0;34m\u001b[0m\u001b[0m\n\u001b[1;32m     77\u001b[0m             \u001b[0;32mreturn\u001b[0m \u001b[0mfunc\u001b[0m\u001b[0;34m(\u001b[0m\u001b[0;34m*\u001b[0m\u001b[0margs\u001b[0m\u001b[0;34m,\u001b[0m \u001b[0;34m**\u001b[0m\u001b[0mkwargs\u001b[0m\u001b[0;34m)\u001b[0m\u001b[0;34m\u001b[0m\u001b[0;34m\u001b[0m\u001b[0m\n",
      "\u001b[0;32m/usr/local/lib/python3.6/dist-packages/keras/engine/base_layer.py\u001b[0m in \u001b[0;36m__call__\u001b[0;34m(self, inputs, **kwargs)\u001b[0m\n\u001b[1;32m    444\u001b[0m                 \u001b[0;31m# Raise exceptions in case the input is not compatible\u001b[0m\u001b[0;34m\u001b[0m\u001b[0;34m\u001b[0m\u001b[0;34m\u001b[0m\u001b[0m\n\u001b[1;32m    445\u001b[0m                 \u001b[0;31m# with the input_spec specified in the layer constructor.\u001b[0m\u001b[0;34m\u001b[0m\u001b[0;34m\u001b[0m\u001b[0;34m\u001b[0m\u001b[0m\n\u001b[0;32m--> 446\u001b[0;31m                 \u001b[0mself\u001b[0m\u001b[0;34m.\u001b[0m\u001b[0massert_input_compatibility\u001b[0m\u001b[0;34m(\u001b[0m\u001b[0minputs\u001b[0m\u001b[0;34m)\u001b[0m\u001b[0;34m\u001b[0m\u001b[0;34m\u001b[0m\u001b[0m\n\u001b[0m\u001b[1;32m    447\u001b[0m \u001b[0;34m\u001b[0m\u001b[0m\n\u001b[1;32m    448\u001b[0m                 \u001b[0;31m# Collect input shapes to build layer.\u001b[0m\u001b[0;34m\u001b[0m\u001b[0;34m\u001b[0m\u001b[0;34m\u001b[0m\u001b[0m\n",
      "\u001b[0;32m/usr/local/lib/python3.6/dist-packages/keras/engine/base_layer.py\u001b[0m in \u001b[0;36massert_input_compatibility\u001b[0;34m(self, inputs)\u001b[0m\n\u001b[1;32m    340\u001b[0m                                      \u001b[0mself\u001b[0m\u001b[0;34m.\u001b[0m\u001b[0mname\u001b[0m \u001b[0;34m+\u001b[0m \u001b[0;34m': expected ndim='\u001b[0m \u001b[0;34m+\u001b[0m\u001b[0;34m\u001b[0m\u001b[0;34m\u001b[0m\u001b[0m\n\u001b[1;32m    341\u001b[0m                                      \u001b[0mstr\u001b[0m\u001b[0;34m(\u001b[0m\u001b[0mspec\u001b[0m\u001b[0;34m.\u001b[0m\u001b[0mndim\u001b[0m\u001b[0;34m)\u001b[0m \u001b[0;34m+\u001b[0m \u001b[0;34m', found ndim='\u001b[0m \u001b[0;34m+\u001b[0m\u001b[0;34m\u001b[0m\u001b[0;34m\u001b[0m\u001b[0m\n\u001b[0;32m--> 342\u001b[0;31m                                      str(K.ndim(x)))\n\u001b[0m\u001b[1;32m    343\u001b[0m             \u001b[0;32mif\u001b[0m \u001b[0mspec\u001b[0m\u001b[0;34m.\u001b[0m\u001b[0mmax_ndim\u001b[0m \u001b[0;32mis\u001b[0m \u001b[0;32mnot\u001b[0m \u001b[0;32mNone\u001b[0m\u001b[0;34m:\u001b[0m\u001b[0;34m\u001b[0m\u001b[0;34m\u001b[0m\u001b[0m\n\u001b[1;32m    344\u001b[0m                 \u001b[0mndim\u001b[0m \u001b[0;34m=\u001b[0m \u001b[0mK\u001b[0m\u001b[0;34m.\u001b[0m\u001b[0mndim\u001b[0m\u001b[0;34m(\u001b[0m\u001b[0mx\u001b[0m\u001b[0;34m)\u001b[0m\u001b[0;34m\u001b[0m\u001b[0;34m\u001b[0m\u001b[0m\n",
      "\u001b[0;31mValueError\u001b[0m: Input 0 is incompatible with layer conv2d_1: expected ndim=4, found ndim=5"
     ]
    }
   ],
   "source": [
    "#Define Model\n",
    "\n",
    "model = Sequential()\n",
    "model.add(Conv2D(32, kernel_size=(3, 3), activation='relu', input_shape=input_shape))\n",
    "# todo:siamese network\n",
    "\n",
    "#Compile\n",
    "model.compile(loss=keras.losses.categorical_crossentropy, optimizer=keras.optimizers.adam(), metrics=['accuracy'])\n",
    "\n",
    "print(model.summary())"
   ]
  },
  {
   "cell_type": "markdown",
   "metadata": {},
   "source": [
    "---\n",
    "# Train"
   ]
  },
  {
   "cell_type": "code",
   "execution_count": 143,
   "metadata": {},
   "outputs": [
    {
     "name": "stdout",
     "output_type": "stream",
     "text": [
      "Training\n"
     ]
    }
   ],
   "source": [
    "print(\"Training\")\n",
    "labelizer = LabelEncoder()"
   ]
  },
  {
   "cell_type": "code",
   "execution_count": 145,
   "metadata": {},
   "outputs": [
    {
     "ename": "SyntaxError",
     "evalue": "invalid syntax (<ipython-input-145-5be965065b04>, line 4)",
     "output_type": "error",
     "traceback": [
      "\u001b[0;36m  File \u001b[0;32m\"<ipython-input-145-5be965065b04>\"\u001b[0;36m, line \u001b[0;32m4\u001b[0m\n\u001b[0;31m    y_train =\u001b[0m\n\u001b[0m             ^\u001b[0m\n\u001b[0;31mSyntaxError\u001b[0m\u001b[0;31m:\u001b[0m invalid syntax\n"
     ]
    }
   ],
   "source": [
    "x_train = np.array([x[0] for x in X_train_samples])\n",
    "y_train = np.array([x[1] for x in X_train_samples])\n",
    "\n",
    "y_train =\n",
    "y_train = to_categorical(y_train)\n",
    "\n",
    "x_val = np.array([x[0] for x in X_val_samples])\n",
    "y_val = np.array([x[1] for x in X_val_samples])\n",
    "\n",
    "y_val = \n",
    "y_val = \n",
    "\n",
    "x_test =\n",
    "y_test ="
   ]
  },
  {
   "cell_type": "markdown",
   "metadata": {},
   "source": [
    "### Large number of epochs"
   ]
  },
  {
   "cell_type": "code",
   "execution_count": 146,
   "metadata": {
    "scrolled": false
   },
   "outputs": [
    {
     "ename": "NameError",
     "evalue": "name 'x_train' is not defined",
     "output_type": "error",
     "traceback": [
      "\u001b[0;31m---------------------------------------------------------------------------\u001b[0m",
      "\u001b[0;31mNameError\u001b[0m                                 Traceback (most recent call last)",
      "\u001b[0;32m<ipython-input-146-a781b647d13f>\u001b[0m in \u001b[0;36m<module>\u001b[0;34m\u001b[0m\n\u001b[1;32m      1\u001b[0m \u001b[0;31m#25 epochs\u001b[0m\u001b[0;34m\u001b[0m\u001b[0;34m\u001b[0m\u001b[0;34m\u001b[0m\u001b[0m\n\u001b[0;32m----> 2\u001b[0;31m history1 = model.fit(x_train, y_train, \n\u001b[0m\u001b[1;32m      3\u001b[0m           \u001b[0mbatch_size\u001b[0m\u001b[0;34m=\u001b[0m \u001b[0;36m8\u001b[0m\u001b[0;34m,\u001b[0m\u001b[0;34m\u001b[0m\u001b[0;34m\u001b[0m\u001b[0m\n\u001b[1;32m      4\u001b[0m           \u001b[0mepochs\u001b[0m\u001b[0;34m=\u001b[0m\u001b[0;36m25\u001b[0m\u001b[0;34m,\u001b[0m\u001b[0;34m\u001b[0m\u001b[0;34m\u001b[0m\u001b[0m\n\u001b[1;32m      5\u001b[0m           \u001b[0mverbose\u001b[0m\u001b[0;34m=\u001b[0m\u001b[0;36m1\u001b[0m\u001b[0;34m,\u001b[0m\u001b[0;34m\u001b[0m\u001b[0;34m\u001b[0m\u001b[0m\n",
      "\u001b[0;31mNameError\u001b[0m: name 'x_train' is not defined"
     ]
    }
   ],
   "source": [
    "#25 epochs\n",
    "history1 = model.fit(x_train, y_train, \n",
    "          batch_size= 8, \n",
    "          epochs=25,\n",
    "          verbose=1, \n",
    "          validation_data=(x_val, y_val))"
   ]
  },
  {
   "cell_type": "code",
   "execution_count": null,
   "metadata": {},
   "outputs": [],
   "source": []
  },
  {
   "cell_type": "code",
   "execution_count": null,
   "metadata": {},
   "outputs": [],
   "source": []
  }
 ],
 "metadata": {
  "kernelspec": {
   "display_name": "Python 3",
   "language": "python",
   "name": "python3"
  },
  "language_info": {
   "codemirror_mode": {
    "name": "ipython",
    "version": 3
   },
   "file_extension": ".py",
   "mimetype": "text/x-python",
   "name": "python",
   "nbconvert_exporter": "python",
   "pygments_lexer": "ipython3",
   "version": "3.6.9"
  }
 },
 "nbformat": 4,
 "nbformat_minor": 2
}
