{
 "cells": [
  {
   "cell_type": "code",
   "execution_count": 2,
   "metadata": {},
   "outputs": [],
   "source": [
    "import os\n",
    "import glob\n",
    "import IPython.display as ipd\n",
    "from pathlib import Path\n",
    "\n",
    "%matplotlib inline\n",
    "import matplotlib.pyplot as plt\n",
    "import cv2\n",
    "from sklearn.model_selection import train_test_split\n",
    "from matplotlib import pyplot as plt\n",
    "import numpy as np\n",
    "\n",
    "from sklearn.preprocessing import LabelEncoder\n",
    "import keras\n",
    "from keras.models import Sequential, Model\n",
    "from keras.layers import Input, Conv2D, MaxPooling2D, Flatten, Dense, Subtract\n",
    "from keras.optimizers import Adam, SGD\n",
    "from keras.utils import plot_model\n",
    "from keras.regularizers import l2\n",
    "from sklearn.metrics import confusion_matrix, plot_confusion_matrix\n",
    "from keras.initializers import RandomNormal\n",
    "\n",
    "from tqdm.notebook import tqdm, trange"
   ]
  },
  {
   "cell_type": "code",
   "execution_count": 3,
   "metadata": {},
   "outputs": [],
   "source": [
    "DATA_DIR = Path('./frgc32x32/')\n",
    "images = [x.name for x in DATA_DIR.glob('*')]"
   ]
  },
  {
   "cell_type": "code",
   "execution_count": 4,
   "metadata": {},
   "outputs": [],
   "source": [
    "paths_all_labels = []\n",
    "for image in images:\n",
    "    x = image.split(\"d\", 1)\n",
    "    paths_all_labels.append((x[0], './frgc32x32/'+image))"
   ]
  },
  {
   "cell_type": "code",
   "execution_count": 5,
   "metadata": {},
   "outputs": [],
   "source": [
    "import pandas as pd"
   ]
  },
  {
   "cell_type": "code",
   "execution_count": 6,
   "metadata": {},
   "outputs": [],
   "source": [
    "image_paths = list(DATA_DIR.glob('*.png'))\n",
    "user_id = [x.name.split('d')[0] for x in image_paths]\n",
    "user_img_id = [x.name.split('d')[1].replace('.png', '') for x in image_paths]\n",
    "\n",
    "directory_df = pd.DataFrame({\n",
    "    'user_id': user_id,\n",
    "    'user_img_id': user_img_id,\n",
    "    'path': [str(x) for x in image_paths]\n",
    "})"
   ]
  },
  {
   "cell_type": "code",
   "execution_count": 7,
   "metadata": {},
   "outputs": [
    {
     "data": {
      "text/html": [
       "<div>\n",
       "<style scoped>\n",
       "    .dataframe tbody tr th:only-of-type {\n",
       "        vertical-align: middle;\n",
       "    }\n",
       "\n",
       "    .dataframe tbody tr th {\n",
       "        vertical-align: top;\n",
       "    }\n",
       "\n",
       "    .dataframe thead th {\n",
       "        text-align: right;\n",
       "    }\n",
       "</style>\n",
       "<table border=\"1\" class=\"dataframe\">\n",
       "  <thead>\n",
       "    <tr style=\"text-align: right;\">\n",
       "      <th></th>\n",
       "      <th>count</th>\n",
       "    </tr>\n",
       "  </thead>\n",
       "  <tbody>\n",
       "    <tr>\n",
       "      <th>count</th>\n",
       "      <td>568.000000</td>\n",
       "    </tr>\n",
       "    <tr>\n",
       "      <th>mean</th>\n",
       "      <td>21.667254</td>\n",
       "    </tr>\n",
       "    <tr>\n",
       "      <th>std</th>\n",
       "      <td>16.794857</td>\n",
       "    </tr>\n",
       "    <tr>\n",
       "      <th>min</th>\n",
       "      <td>2.000000</td>\n",
       "    </tr>\n",
       "    <tr>\n",
       "      <th>25%</th>\n",
       "      <td>8.000000</td>\n",
       "    </tr>\n",
       "    <tr>\n",
       "      <th>50%</th>\n",
       "      <td>18.000000</td>\n",
       "    </tr>\n",
       "    <tr>\n",
       "      <th>75%</th>\n",
       "      <td>32.000000</td>\n",
       "    </tr>\n",
       "    <tr>\n",
       "      <th>max</th>\n",
       "      <td>70.000000</td>\n",
       "    </tr>\n",
       "  </tbody>\n",
       "</table>\n",
       "</div>"
      ],
      "text/plain": [
       "            count\n",
       "count  568.000000\n",
       "mean    21.667254\n",
       "std     16.794857\n",
       "min      2.000000\n",
       "25%      8.000000\n",
       "50%     18.000000\n",
       "75%     32.000000\n",
       "max     70.000000"
      ]
     },
     "execution_count": 7,
     "metadata": {},
     "output_type": "execute_result"
    }
   ],
   "source": [
    "(    directory_df\n",
    "    .groupby('user_id')['user_img_id']\n",
    "    .count()\n",
    "    .to_frame('count')\n",
    "    .sort_values('count')\n",
    "     .describe()\n",
    ")"
   ]
  },
  {
   "cell_type": "code",
   "execution_count": 8,
   "metadata": {},
   "outputs": [
    {
     "data": {
      "text/plain": [
       "<matplotlib.axes._subplots.AxesSubplot at 0x7f87afacfe10>"
      ]
     },
     "execution_count": 8,
     "metadata": {},
     "output_type": "execute_result"
    },
    {
     "data": {
      "image/png": "[encoded data removed]",
      "text/plain": [
       "<Figure size 1080x720 with 1 Axes>"
      ]
     },
     "metadata": {
      "needs_background": "light"
     },
     "output_type": "display_data"
    }
   ],
   "source": [
    "(\n",
    "    directory_df\n",
    "    .groupby('user_id')['user_img_id']\n",
    "    .count()\n",
    "    .to_frame('count')\n",
    "    .sort_values('count')\n",
    "    .plot(kind='bar', figsize=(15, 10))\n",
    ")"
   ]
  },
  {
   "cell_type": "code",
   "execution_count": 9,
   "metadata": {},
   "outputs": [
    {
     "name": "stdout",
     "output_type": "stream",
     "text": [
      "There are 265/568 (46.65%) unique IDs remaining.\n"
     ]
    }
   ],
   "source": [
    "data_size = 20\n",
    "\n",
    "ids_to_keep = ( \n",
    "    directory_df\n",
    "    .groupby('user_id')['user_img_id']\n",
    "    .count() >= data_size\n",
    ")\n",
    "ids_to_keep = ids_to_keep[ids_to_keep].index\n",
    "\n",
    "subset_directory_df = (\n",
    "    directory_df\n",
    "    .loc[directory_df['user_id'].isin(ids_to_keep)]\n",
    "    .sample(frac=1)\n",
    "    .groupby('user_id')\n",
    "    .head(data_size)\n",
    "    .copy()\n",
    ")\n",
    "\n",
    "old_unique = directory_df['user_id'].nunique()\n",
    "new_unique = subset_directory_df['user_id'].nunique()\n",
    "print(f\"There are {new_unique}/{old_unique} ({new_unique/old_unique*100:.2f}%)\" +\n",
    "      \" unique IDs remaining.\")"
   ]
  },
  {
   "cell_type": "code",
   "execution_count": 10,
   "metadata": {},
   "outputs": [
    {
     "data": {
      "text/plain": [
       "<matplotlib.axes._subplots.AxesSubplot at 0x7f87ad9a8240>"
      ]
     },
     "execution_count": 10,
     "metadata": {},
     "output_type": "execute_result"
    },
    {
     "data": {
      "image/png": "[encoded data removed]",
      "text/plain": [
       "<Figure size 1080x720 with 1 Axes>"
      ]
     },
     "metadata": {
      "needs_background": "light"
     },
     "output_type": "display_data"
    }
   ],
   "source": [
    "(\n",
    "    subset_directory_df\n",
    "    .groupby('user_id')['user_img_id']\n",
    "    .count()\n",
    "    .to_frame('count')\n",
    "    .sort_values('count')\n",
    "    .plot(kind='bar', figsize=(15, 10))\n",
    ")"
   ]
  },
  {
   "cell_type": "code",
   "execution_count": 11,
   "metadata": {},
   "outputs": [
    {
     "data": {
      "text/html": [
       "<div>\n",
       "<style scoped>\n",
       "    .dataframe tbody tr th:only-of-type {\n",
       "        vertical-align: middle;\n",
       "    }\n",
       "\n",
       "    .dataframe tbody tr th {\n",
       "        vertical-align: top;\n",
       "    }\n",
       "\n",
       "    .dataframe thead th {\n",
       "        text-align: right;\n",
       "    }\n",
       "</style>\n",
       "<table border=\"1\" class=\"dataframe\">\n",
       "  <thead>\n",
       "    <tr style=\"text-align: right;\">\n",
       "      <th></th>\n",
       "      <th>user_id</th>\n",
       "      <th>user_img_id</th>\n",
       "      <th>path</th>\n",
       "    </tr>\n",
       "  </thead>\n",
       "  <tbody>\n",
       "    <tr>\n",
       "      <th>7394</th>\n",
       "      <td>04670</td>\n",
       "      <td>26</td>\n",
       "      <td>frgc32x32/04670d26.png</td>\n",
       "    </tr>\n",
       "    <tr>\n",
       "      <th>6234</th>\n",
       "      <td>04370</td>\n",
       "      <td>267</td>\n",
       "      <td>frgc32x32/04370d267.png</td>\n",
       "    </tr>\n",
       "    <tr>\n",
       "      <th>4576</th>\n",
       "      <td>04537</td>\n",
       "      <td>342</td>\n",
       "      <td>frgc32x32/04537d342.png</td>\n",
       "    </tr>\n",
       "    <tr>\n",
       "      <th>2695</th>\n",
       "      <td>04600</td>\n",
       "      <td>72</td>\n",
       "      <td>frgc32x32/04600d72.png</td>\n",
       "    </tr>\n",
       "    <tr>\n",
       "      <th>5842</th>\n",
       "      <td>04397</td>\n",
       "      <td>364</td>\n",
       "      <td>frgc32x32/04397d364.png</td>\n",
       "    </tr>\n",
       "  </tbody>\n",
       "</table>\n",
       "</div>"
      ],
      "text/plain": [
       "     user_id user_img_id                     path\n",
       "7394   04670          26   frgc32x32/04670d26.png\n",
       "6234   04370         267  frgc32x32/04370d267.png\n",
       "4576   04537         342  frgc32x32/04537d342.png\n",
       "2695   04600          72   frgc32x32/04600d72.png\n",
       "5842   04397         364  frgc32x32/04397d364.png"
      ]
     },
     "execution_count": 11,
     "metadata": {},
     "output_type": "execute_result"
    }
   ],
   "source": [
    "subset_directory_df.head()"
   ]
  },
  {
   "cell_type": "code",
   "execution_count": 12,
   "metadata": {},
   "outputs": [],
   "source": [
    "cat_list = [] #list of all unique labels\n",
    "cat_list = subset_directory_df['user_id'].unique()"
   ]
  },
  {
   "cell_type": "code",
   "execution_count": 13,
   "metadata": {},
   "outputs": [
    {
     "name": "stdout",
     "output_type": "stream",
     "text": [
      "(5300, 32, 32, 1) (5300,) (265,)\n"
     ]
    }
   ],
   "source": [
    "images = []   #list of all images\n",
    "labels = []   #list of all labels on same idx as image\n",
    "\n",
    "\n",
    "\n",
    "for index,row in subset_directory_df.iterrows():\n",
    "    img = cv2.imread(row['path'], 0)\n",
    "    sample = cv2.resize(img, (32,32))\n",
    "    sample = np.expand_dims(img, -1)\n",
    "    images.append(sample)\n",
    "    labels.append(row['user_id'])\n",
    "\n",
    "images = np.asarray(images)\n",
    "labels = np.asarray(labels)\n",
    "cat_list = np.asarray(cat_list)\n",
    "\n",
    "print(images.shape, labels.shape, cat_list.shape)"
   ]
  },
  {
   "cell_type": "markdown",
   "metadata": {},
   "source": [
    "---\n",
    "\n",
    "# Load and preprocess --> [train, val]"
   ]
  },
  {
   "cell_type": "code",
   "execution_count": 14,
   "metadata": {},
   "outputs": [
    {
     "name": "stdout",
     "output_type": "stream",
     "text": [
      "185 classes for training and 80  classes for testing\n",
      "X&Y shape of training data : (343, 32, 32, 1) and (343,) (185,)\n",
      "X&Y shape of testing data : (4957, 32, 32, 1) and (4957,) (80,)\n"
     ]
    }
   ],
   "source": [
    "train_test_split = 0.7\n",
    "train_size = int(len(cat_list) * train_test_split)\n",
    "test_size = len(cat_list) - train_size\n",
    "print(train_size, 'classes for training and', test_size, ' classes for testing')\n",
    "\n",
    "train_idx = 0\n",
    "while labels[train_idx+1] != cat_list[train_size]:\n",
    "    train_idx += 1\n",
    "train_idx += 1\n",
    "\n",
    "img_train = images[:train_idx]\n",
    "lbl_train = labels[:train_idx]\n",
    "cat_train = cat_list[:train_size]\n",
    "\n",
    "img_val = images[train_idx:]\n",
    "lbl_val = labels[train_idx:]\n",
    "cat_val = cat_list[train_size:]\n",
    "\n",
    "print('X&Y shape of training data :',img_train.shape, 'and', lbl_train.shape, cat_train.shape)\n",
    "print('X&Y shape of testing data :' , img_val.shape, 'and', lbl_val.shape, cat_val.shape)"
   ]
  },
  {
   "cell_type": "markdown",
   "metadata": {},
   "source": [
    "---\n",
    "# Build the model"
   ]
  },
  {
   "cell_type": "code",
   "execution_count": 15,
   "metadata": {},
   "outputs": [
    {
     "name": "stdout",
     "output_type": "stream",
     "text": [
      "(32, 32, 1)\n"
     ]
    }
   ],
   "source": [
    "input_shape = img_train[0].shape\n",
    "print(input_shape)\n",
    "left_input = Input(input_shape)\n",
    "right_input = Input(input_shape)"
   ]
  },
  {
   "cell_type": "code",
   "execution_count": 16,
   "metadata": {},
   "outputs": [],
   "source": [
    "W_init = keras.initializers.RandomNormal(mean = 0.0, stddev = 1e-2)\n",
    "b_init = keras.initializers.RandomNormal(mean = 0.5, stddev = 1e-2)"
   ]
  },
  {
   "cell_type": "code",
   "execution_count": 18,
   "metadata": {},
   "outputs": [
    {
     "name": "stderr",
     "output_type": "stream",
     "text": [
      "/usr/local/lib/python3.6/dist-packages/ipykernel_launcher.py:16: UserWarning: Update your `Model` call to the Keras 2 API: `Model(inputs=[<tf.Tenso..., outputs=Tensor(\"de...)`\n",
      "  app.launch_new_instance()\n"
     ]
    }
   ],
   "source": [
    "#Define Model\n",
    "\n",
    "model = Sequential()\n",
    "model.add(Conv2D(64, (6,6), activation='relu', input_shape=input_shape, kernel_initializer=W_init, bias_initializer=b_init, kernel_regularizer=l2(2e-4)))\n",
    "model.add(MaxPooling2D(2, 2))\n",
    "model.add(Conv2D(128, (4,4), activation='relu', kernel_initializer=W_init, bias_initializer=b_init, kernel_regularizer=l2(2e-4)))\n",
    "model.add(MaxPooling2D(2,2))\n",
    "model.add(Flatten())\n",
    "model.add(Dense(512, activation='sigmoid', kernel_initializer=W_init, bias_initializer=b_init))\n",
    "\n",
    "encoded_l = model(left_input)\n",
    "encoded_r = model(right_input)\n",
    "          \n",
    "subtracted = keras.layers.Subtract()([encoded_l, encoded_r])\n",
    "prediction = Dense(1, activation='sigmoid', bias_initializer=b_init)(subtracted)\n",
    "siamese_net = Model(input=[left_input, right_input], output=prediction)\n",
    "\n",
    "optimizer= Adam(learning_rate=0.0006)\n",
    "siamese_net.compile(loss='binary_crossentropy', optimizer=optimizer)"
   ]
  },
  {
   "cell_type": "code",
   "execution_count": 19,
   "metadata": {},
   "outputs": [
    {
     "name": "stdout",
     "output_type": "stream",
     "text": [
      "Model: \"model_2\"\n",
      "__________________________________________________________________________________________________\n",
      "Layer (type)                    Output Shape         Param #     Connected to                     \n",
      "==================================================================================================\n",
      "input_1 (InputLayer)            (None, 32, 32, 1)    0                                            \n",
      "__________________________________________________________________________________________________\n",
      "input_2 (InputLayer)            (None, 32, 32, 1)    0                                            \n",
      "__________________________________________________________________________________________________\n",
      "sequential_2 (Sequential)       (None, 512)          1772480     input_1[0][0]                    \n",
      "                                                                 input_2[0][0]                    \n",
      "__________________________________________________________________________________________________\n",
      "subtract_2 (Subtract)           (None, 512)          0           sequential_2[1][0]               \n",
      "                                                                 sequential_2[2][0]               \n",
      "__________________________________________________________________________________________________\n",
      "dense_4 (Dense)                 (None, 1)            513         subtract_2[0][0]                 \n",
      "==================================================================================================\n",
      "Total params: 1,772,993\n",
      "Trainable params: 1,772,993\n",
      "Non-trainable params: 0\n",
      "__________________________________________________________________________________________________\n"
     ]
    }
   ],
   "source": [
    "siamese_net.summary()"
   ]
  },
  {
   "cell_type": "code",
   "execution_count": null,
   "metadata": {},
   "outputs": [],
   "source": []
  },
  {
   "cell_type": "markdown",
   "metadata": {},
   "source": [
    "---\n",
    "# Train"
   ]
  },
  {
   "cell_type": "code",
   "execution_count": 23,
   "metadata": {},
   "outputs": [],
   "source": [
    "from tqdm.notebook import tqdm, trange"
   ]
  },
  {
   "cell_type": "code",
   "execution_count": 24,
   "metadata": {},
   "outputs": [],
   "source": [
    "def get_batch(batch_size=64):\n",
    "    temp_img = img_train\n",
    "    temp_cat_list = cat_train\n",
    "    start = 0\n",
    "    end = train_size\n",
    "    batch_img = []\n",
    "\n",
    "    batch_lbl = np.zeros(batch_size)\n",
    "    batch_lbl[int(batch_size/2):] = 1\n",
    "#     TODO implement batches"
   ]
  },
  {
   "cell_type": "code",
   "execution_count": 25,
   "metadata": {},
   "outputs": [
    {
     "ename": "NameError",
     "evalue": "name 'xxxxx' is not defined",
     "output_type": "error",
     "traceback": [
      "\u001b[0;31m---------------------------------------------------------------------------\u001b[0m",
      "\u001b[0;31mNameError\u001b[0m                                 Traceback (most recent call last)",
      "\u001b[0;32m<ipython-input-25-c3667d1e52af>\u001b[0m in \u001b[0;36m<module>\u001b[0;34m\u001b[0m\n\u001b[0;32m----> 1\u001b[0;31m \u001b[0msiamese_net\u001b[0m\u001b[0;34m.\u001b[0m\u001b[0mfit\u001b[0m\u001b[0;34m(\u001b[0m\u001b[0mx\u001b[0m\u001b[0;34m=\u001b[0m\u001b[0;34m[\u001b[0m\u001b[0mxxxxx\u001b[0m\u001b[0;34m]\u001b[0m\u001b[0;34m,\u001b[0m\u001b[0my\u001b[0m\u001b[0;34m=\u001b[0m\u001b[0mxxxxxx\u001b[0m\u001b[0;34m,\u001b[0m\u001b[0mbatch_size\u001b[0m\u001b[0;34m=\u001b[0m\u001b[0;36m64\u001b[0m\u001b[0;34m,\u001b[0m\u001b[0mepochs\u001b[0m\u001b[0;34m=\u001b[0m\u001b[0;36m100\u001b[0m\u001b[0;34m)\u001b[0m\u001b[0;34m\u001b[0m\u001b[0;34m\u001b[0m\u001b[0m\n\u001b[0m\u001b[1;32m      2\u001b[0m \u001b[0;34m\u001b[0m\u001b[0m\n",
      "\u001b[0;31mNameError\u001b[0m: name 'xxxxx' is not defined"
     ]
    }
   ],
   "source": [
    "siamese_net.fit(x=[xxxxx],y=xxxxxx,batch_size=64,epochs=100)\n",
    "\n"
   ]
  },
  {
   "cell_type": "code",
   "execution_count": null,
   "metadata": {},
   "outputs": [],
   "source": []
  }
 ],
 "metadata": {
  "kernelspec": {
   "display_name": "Python 3",
   "language": "python",
   "name": "python3"
  },
  "language_info": {
   "codemirror_mode": {
    "name": "ipython",
    "version": 3
   },
   "file_extension": ".py",
   "mimetype": "text/x-python",
   "name": "python",
   "nbconvert_exporter": "python",
   "pygments_lexer": "ipython3",
   "version": "3.6.9"
  }
 },
 "nbformat": 4,
 "nbformat_minor": 2
}
