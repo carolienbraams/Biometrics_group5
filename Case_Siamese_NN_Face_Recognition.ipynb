{
 "cells": [
  {
   "cell_type": "code",
   "execution_count": 82,
   "metadata": {},
   "outputs": [],
   "source": [
    "import os\n",
    "import glob\n",
    "import IPython.display as ipd\n",
    "from pathlib import Path\n",
    "\n",
    "%matplotlib inline\n",
    "import matplotlib.pyplot as plt\n",
    "import cv2\n",
    "from sklearn.model_selection import train_test_split\n",
    "from matplotlib import pyplot as plt\n",
    "import numpy as np\n",
    "\n",
    "from sklearn.preprocessing import LabelEncoder\n",
    "import keras\n",
    "from keras.models import Sequential, Model\n",
    "from keras.layers import Input, Conv2D, MaxPooling2D, Flatten, Dense, Subtract\n",
    "from keras.optimizers import Adam, SGD\n",
    "from keras.utils import plot_model\n",
    "from keras.regularizers import l2\n",
    "from sklearn.metrics import confusion_matrix, plot_confusion_matrix\n",
    "from keras.initializers import RandomNormal\n",
    "\n",
    "from tqdm.notebook import tqdm, trange"
   ]
  },
  {
   "cell_type": "code",
   "execution_count": 83,
   "metadata": {},
   "outputs": [
    {
     "data": {
      "text/plain": "finding images:   0%|          | 0/12307 [00:00<?, ?it/s]",
      "application/vnd.jupyter.widget-view+json": {
       "version_major": 2,
       "version_minor": 0,
       "model_id": "09bc3b8d14cc46a4ba387ad05f2ae7ba"
      }
     },
     "metadata": {},
     "output_type": "display_data"
    },
    {
     "data": {
      "text/plain": "loading images:   0%|          | 0/12307 [00:00<?, ?it/s]",
      "application/vnd.jupyter.widget-view+json": {
       "version_major": 2,
       "version_minor": 0,
       "model_id": "a735a55d655f484a9280f4262ae8187c"
      }
     },
     "metadata": {},
     "output_type": "display_data"
    },
    {
     "name": "stdout",
     "output_type": "stream",
     "text": [
      "(12307, 32, 32, 1) (12307,) (568,)\n"
     ]
    }
   ],
   "source": [
    "DATA_DIR = Path('./frgc32x32/')\n",
    "image_paths = [x.name for x in DATA_DIR.glob('*')]\n",
    "\n",
    "paths_all_labels = []\n",
    "for image in tqdm(image_paths, desc='finding images'):\n",
    "    x = image.split(\"d\", 1)\n",
    "    paths_all_labels.append((x[0], './frgc32x32/'+image))\n",
    "\n",
    "cat_list = [] #list of all unique labels\n",
    "images = []   #list of all images\n",
    "labels = []   #list of all labels on same idx as image\n",
    "\n",
    "for (label, path) in tqdm(paths_all_labels, desc='loading images'):\n",
    "    img = cv2.imread(path, 0)\n",
    "    sample = cv2.resize(img, (32,32))\n",
    "    sample = np.expand_dims(img, -1)\n",
    "    images.append(sample)\n",
    "    labels.append(label)\n",
    "    if label not in cat_list:\n",
    "        cat_list.append(label)\n",
    "\n",
    "cat_list = np.asarray(cat_list)\n",
    "images = np.asarray(images)\n",
    "labels = np.asarray(labels)\n",
    "\n",
    "print(images.shape, labels.shape, cat_list.shape)"
   ]
  },
  {
   "cell_type": "code",
   "execution_count": 84,
   "outputs": [
    {
     "name": "stdout",
     "output_type": "stream",
     "text": [
      "397 classes for training and 171  classes for testing\n",
      "X&Y shape of training data : (9947, 32, 32, 1) and (9947,) (397,)\n",
      "X&Y shape of testing data : (2360, 32, 32, 1) and (2360,) (171,)\n"
     ]
    }
   ],
   "source": [
    "train_test_split = 0.7\n",
    "train_size = int(len(cat_list) * train_test_split)\n",
    "test_size = len(cat_list) - train_size\n",
    "print(train_size, 'classes for training and', test_size, ' classes for testing')\n",
    "\n",
    "train_idx = 0\n",
    "while labels[train_idx+1] != cat_list[train_size]:\n",
    "    train_idx += 1\n",
    "train_idx += 1\n",
    "\n",
    "img_train = images[:train_idx]\n",
    "lbl_train = labels[:train_idx]\n",
    "cat_train = cat_list[:train_size]\n",
    "\n",
    "img_val = images[train_idx:]\n",
    "lbl_val = labels[train_idx:]\n",
    "cat_val = cat_list[train_size:]\n",
    "\n",
    "print('X&Y shape of training data :',img_train.shape, 'and', lbl_train.shape, cat_train.shape)\n",
    "print('X&Y shape of testing data :' , img_val.shape, 'and', lbl_val.shape, cat_val.shape)"
   ],
   "metadata": {
    "collapsed": false,
    "pycharm": {
     "name": "#%%\n"
    }
   }
  },
  {
   "cell_type": "code",
   "execution_count": 85,
   "outputs": [],
   "source": [
    "def get_batch(batch_size=64):\n",
    "    temp_img = img_train\n",
    "    temp_cat_list = cat_train\n",
    "    start = 0\n",
    "    end = train_size\n",
    "    batch_img = []\n",
    "\n",
    "    batch_lbl = np.zeros(batch_size)\n",
    "    batch_lbl[int(batch_size/2):] = 1\n",
    "#     TODO implement batches"
   ],
   "metadata": {
    "collapsed": false,
    "pycharm": {
     "name": "#%%\n"
    }
   }
  },
  {
   "cell_type": "code",
   "execution_count": 88,
   "outputs": [],
   "source": [
    "input_shape = (32,32,1)\n",
    "left_input = Input(input_shape)\n",
    "right_input = Input(input_shape)\n",
    "\n",
    "W_init = RandomNormal(mean = 0.0, stddev = 1e-2)\n",
    "b_init = RandomNormal(mean = 0.5, stddev = 1e-2)\n",
    "\n",
    "model = Sequential([\n",
    "    keras.layers.Conv2D(64, (6,6), activation='relu', input_shape=input_shape, kernel_initializer=W_init, bias_initializer=b_init, kernel_regularizer=l2(2e-4)),\n",
    "    keras.layers.MaxPooling2D(2, 2),\n",
    "    keras.layers.Conv2D(128, (4,4), activation='relu', kernel_initializer=W_init, bias_initializer=b_init, kernel_regularizer=l2(2e-4)),\n",
    "    keras.layers.MaxPooling2D(2,2),\n",
    "    keras.layers.Flatten(),\n",
    "    keras.layers.Dense(512, activation='sigmoid', kernel_initializer=W_init, bias_initializer=b_init)\n",
    "])\n",
    "\n",
    "encoded_l = model(left_input)\n",
    "encoded_r = model(right_input)\n",
    "\n",
    "subtracted = keras.layers.Subtract()([encoded_l, encoded_r])\n",
    "prediction = Dense(1, activation='sigmoid', bias_initializer=b_init)(subtracted)\n",
    "siamese_net = Model(inputs=[left_input, right_input], outputs=prediction)\n",
    "\n",
    "optimizer= Adam(learning_rate=0.0006)\n",
    "siamese_net.compile(loss='binary_crossentropy', optimizer=optimizer)"
   ],
   "metadata": {
    "collapsed": false,
    "pycharm": {
     "name": "#%%\n"
    }
   }
  },
  {
   "cell_type": "code",
   "execution_count": null,
   "outputs": [],
   "source": [
    "def nway_one_shot(model, n_way, n_val):\n",
    "    pass\n",
    "\n",
    "\n",
    "\n"
   ],
   "metadata": {
    "collapsed": false,
    "pycharm": {
     "name": "#%%\n"
    }
   }
  },
  {
   "cell_type": "code",
   "execution_count": 90,
   "outputs": [
    {
     "data": {
      "text/plain": "training:   0%|          | 0/9999 [00:00<?, ?it/s]",
      "application/vnd.jupyter.widget-view+json": {
       "version_major": 2,
       "version_minor": 0,
       "model_id": "054d91d2e8824e378896698062802f2b"
      }
     },
     "metadata": {},
     "output_type": "display_data"
    }
   ],
   "source": [
    "epochs = 10000\n",
    "n_way = 10\n",
    "n_val = 50\n",
    "batch_size = 64\n",
    "\n",
    "loss_list = []\n",
    "accuracy_list = []\n",
    "\n",
    "for epoch in tqdm(range(1, epochs), desc='training'):\n",
    "    pass"
   ],
   "metadata": {
    "collapsed": false,
    "pycharm": {
     "name": "#%%\n"
    }
   }
  }
 ],
 "metadata": {
  "kernelspec": {
   "display_name": "Python 3",
   "language": "python",
   "name": "python3"
  },
  "language_info": {
   "codemirror_mode": {
    "name": "ipython",
    "version": 3
   },
   "file_extension": ".py",
   "mimetype": "text/x-python",
   "name": "python",
   "nbconvert_exporter": "python",
   "pygments_lexer": "ipython3",
   "version": "3.6.9"
  }
 },
 "nbformat": 4,
 "nbformat_minor": 2
}