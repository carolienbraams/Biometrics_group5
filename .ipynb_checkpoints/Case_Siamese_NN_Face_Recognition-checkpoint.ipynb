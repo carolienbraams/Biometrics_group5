{
 "cells": [
  {
   "cell_type": "code",
   "execution_count": null,
   "metadata": {},
   "outputs": [
    {
     "name": "stderr",
     "output_type": "stream",
     "text": [
      "Using TensorFlow backend.\n"
     ]
    }
   ],
   "source": [
    "import os\n",
    "import glob\n",
    "import IPython.display as ipd\n",
    "from pathlib import Path\n",
    "\n",
    "%matplotlib inline\n",
    "import matplotlib.pyplot as plt\n",
    "\n",
    "import pandas as pd\n",
    "from sklearn import datasets, linear_model\n",
    "from sklearn.model_selection import train_test_split\n",
    "from matplotlib import pyplot as plt\n",
    "import numpy as np\n",
    "import cv2\n",
    "\n",
    "from sklearn.preprocessing import LabelEncoder\n",
    "from keras.utils import to_categorical\n",
    "\n",
    "import keras\n",
    "from keras.models import Sequential\n",
    "from keras.layers import Conv2D, MaxPooling2D, Flatten, Dropout, Dense, BatchNormalization, Activation, GaussianNoise\n",
    "from sklearn.metrics import confusion_matrix, plot_confusion_matrix"
   ]
  },
  {
   "cell_type": "code",
   "execution_count": null,
   "metadata": {},
   "outputs": [],
   "source": [
    "DATA_DIR = Path('./frgc32x32/')\n",
    "categories = [x.name for x in DATA_DIR.glob('*') if x.is_dir()]"
   ]
  },
  {
   "cell_type": "code",
   "execution_count": null,
   "metadata": {},
   "outputs": [],
   "source": [
    "categories"
   ]
  },
  {
   "cell_type": "code",
   "execution_count": 22,
   "metadata": {},
   "outputs": [
    {
     "name": "stdout",
     "output_type": "stream",
     "text": [
      "Number of classes: 3\n"
     ]
    }
   ],
   "source": [
    "categories_to_use = [\n",
    "    'classical',\n",
    "    'hiphop',\n",
    "    'metal'\n",
    "]\n",
    "\n",
    "#overwriting classes to all classes\n",
    "# categories_to_use = categories\n",
    "\n",
    "NUM_CLASSES = len(categories_to_use)\n",
    "\n",
    "print(f'Number of classes: {NUM_CLASSES}')"
   ]
  },
  {
   "cell_type": "code",
   "execution_count": 23,
   "metadata": {},
   "outputs": [],
   "source": [
    "EXTENSION_TYPE = '.wav'"
   ]
  },
  {
   "cell_type": "code",
   "execution_count": 24,
   "metadata": {},
   "outputs": [],
   "source": [
    "def create_paths_ds(paths: Path, label: str) -> list:\n",
    "    return [(x, label) for x in paths.glob('*' + EXTENSION_TYPE)]"
   ]
  },
  {
   "cell_type": "code",
   "execution_count": 25,
   "metadata": {},
   "outputs": [],
   "source": [
    "SAMPLE_SIZE = 5 # in seconds\n",
    "IMG_SIZE = (50, 50)\n",
    "\n",
    "def load_and_preprocess(dataset):\n",
    "    data = []\n",
    "    for (path, label) in dataset:\n",
    "        audio, sr = librosa.load(path)\n",
    "        dur = librosa.get_duration(audio, sr = sr)\n",
    "        sampleNum = int(dur / SAMPLE_SIZE)\n",
    "        offset = (dur % SAMPLE_SIZE) / 2\n",
    "        for i in range(sampleNum):\n",
    "            audio, sr = librosa.load(path, offset= offset+i, duration=SAMPLE_SIZE)\n",
    "            sample = audio\n",
    "            sample = cv2.resize(sample, dsize=IMG_SIZE)\n",
    "            sample = np.expand_dims(sample,-1)\n",
    "            data += [(sample, label)]\n",
    "    return data"
   ]
  },
  {
   "cell_type": "code",
   "execution_count": 26,
   "metadata": {},
   "outputs": [],
   "source": [
    "paths_all_labels = []\n",
    "for cat in categories_to_use:\n",
    "    paths_all_labels += create_paths_ds(DATA_DIR / cat, cat)"
   ]
  },
  {
   "cell_type": "code",
   "execution_count": 27,
   "metadata": {},
   "outputs": [
    {
     "name": "stdout",
     "output_type": "stream",
     "text": [
      "Train length: 216\n",
      "Validation length: 54\n",
      "Test length: 30\n"
     ]
    }
   ],
   "source": [
    "X_train, X_test = train_test_split(paths_all_labels,test_size=0.1)\n",
    "X_train, X_val = train_test_split(X_train, test_size=0.2)\n",
    "\n",
    "print(f'Train length: {len(X_train)}')\n",
    "print(f'Validation length: {len(X_val)}')\n",
    "print(f'Test length: {len(X_test)}')\n",
    "\n"
   ]
  },
  {
   "cell_type": "code",
   "execution_count": 28,
   "metadata": {},
   "outputs": [],
   "source": [
    "IMG_SIZE = (50, 50)"
   ]
  },
  {
   "cell_type": "markdown",
   "metadata": {},
   "source": [
    "---\n",
    "\n",
    "# Load and preprocess --> [train, val, test]"
   ]
  },
  {
   "cell_type": "code",
   "execution_count": 29,
   "metadata": {},
   "outputs": [
    {
     "name": "stdout",
     "output_type": "stream",
     "text": [
      "Sampling...\n"
     ]
    }
   ],
   "source": [
    "print(\"Sampling...\")\n",
    "X_train_samples = load_and_preprocess(X_train)"
   ]
  },
  {
   "cell_type": "code",
   "execution_count": 30,
   "metadata": {},
   "outputs": [
    {
     "name": "stdout",
     "output_type": "stream",
     "text": [
      "Sampling2....\n"
     ]
    }
   ],
   "source": [
    "print(\"Sampling2....\")\n",
    "X_test_samples = load_and_preprocess(X_test)"
   ]
  },
  {
   "cell_type": "code",
   "execution_count": 31,
   "metadata": {},
   "outputs": [
    {
     "name": "stdout",
     "output_type": "stream",
     "text": [
      "Sampling3....\n"
     ]
    }
   ],
   "source": [
    "print(\"Sampling3....\")\n",
    "X_val_samples = load_and_preprocess(X_val)"
   ]
  },
  {
   "cell_type": "code",
   "execution_count": 32,
   "metadata": {},
   "outputs": [
    {
     "name": "stdout",
     "output_type": "stream",
     "text": [
      "(50, 50, 1)\n",
      "1296\n",
      "321\n",
      "179\n"
     ]
    }
   ],
   "source": [
    "print(X_train_samples[0][0].shape)\n",
    "print(len(X_train_samples))\n",
    "print(len(X_val_samples))\n",
    "print(len(X_test_samples))\n"
   ]
  },
  {
   "cell_type": "markdown",
   "metadata": {},
   "source": [
    "---\n",
    "# Build the model"
   ]
  },
  {
   "cell_type": "code",
   "execution_count": 33,
   "metadata": {},
   "outputs": [],
   "source": [
    "input_shape = X_train_samples[0][0].shape"
   ]
  },
  {
   "cell_type": "code",
   "execution_count": 34,
   "metadata": {},
   "outputs": [
    {
     "name": "stdout",
     "output_type": "stream",
     "text": [
      "Model: \"sequential_2\"\n",
      "_________________________________________________________________\n",
      "Layer (type)                 Output Shape              Param #   \n",
      "=================================================================\n",
      "conv2d_3 (Conv2D)            (None, 48, 48, 32)        320       \n",
      "_________________________________________________________________\n",
      "conv2d_4 (Conv2D)            (None, 46, 46, 64)        18496     \n",
      "_________________________________________________________________\n",
      "max_pooling2d_2 (MaxPooling2 (None, 23, 23, 64)        0         \n",
      "_________________________________________________________________\n",
      "gaussian_noise_2 (GaussianNo (None, 23, 23, 64)        0         \n",
      "_________________________________________________________________\n",
      "dropout_3 (Dropout)          (None, 23, 23, 64)        0         \n",
      "_________________________________________________________________\n",
      "flatten_2 (Flatten)          (None, 33856)             0         \n",
      "_________________________________________________________________\n",
      "dense_3 (Dense)              (None, 128)               4333696   \n",
      "_________________________________________________________________\n",
      "batch_normalization_2 (Batch (None, 128)               512       \n",
      "_________________________________________________________________\n",
      "activation_2 (Activation)    (None, 128)               0         \n",
      "_________________________________________________________________\n",
      "dropout_4 (Dropout)          (None, 128)               0         \n",
      "_________________________________________________________________\n",
      "dense_4 (Dense)              (None, 3)                 387       \n",
      "=================================================================\n",
      "Total params: 4,353,411\n",
      "Trainable params: 4,353,155\n",
      "Non-trainable params: 256\n",
      "_________________________________________________________________\n",
      "None\n"
     ]
    }
   ],
   "source": [
    "#Define Model\n",
    "model = Sequential()\n",
    "model.add(Conv2D(32, kernel_size=(3, 3), activation='relu', input_shape=input_shape))\n",
    "model.add(Conv2D(64, kernel_size=(3, 3), activation='relu'))\n",
    "model.add(MaxPooling2D(pool_size=(2, 2)))\n",
    "model.add(GaussianNoise(0.1))\n",
    "model.add(Dropout(0.25))\n",
    "model.add(Flatten())\n",
    "model.add(Dense(128))\n",
    "model.add(BatchNormalization())\n",
    "model.add(Activation('relu'))\n",
    "model.add(Dropout(0.5))\n",
    "model.add(Dense(NUM_CLASSES, activation='softmax'))#Compile\n",
    "model.compile(loss=keras.losses.categorical_crossentropy, optimizer=keras.optimizers.adam(), metrics=['accuracy'])\n",
    "\n",
    "print(model.summary())#Train and Test The Model"
   ]
  },
  {
   "cell_type": "markdown",
   "metadata": {},
   "source": [
    "---\n",
    "# Train"
   ]
  },
  {
   "cell_type": "code",
   "execution_count": 35,
   "metadata": {},
   "outputs": [
    {
     "name": "stdout",
     "output_type": "stream",
     "text": [
      "Training\n"
     ]
    }
   ],
   "source": [
    "print(\"Training\")\n",
    "labelizer = LabelEncoder()"
   ]
  },
  {
   "cell_type": "code",
   "execution_count": 36,
   "metadata": {},
   "outputs": [],
   "source": [
    "x_train = np.array([x[0] for x in X_train_samples])\n",
    "y_train = np.array([x[1] for x in X_train_samples])\n",
    "\n",
    "y_train = labelizer.fit_transform(y_train) # todo: check if still necessary, if you can't just use to_categorical\n",
    "y_train = to_categorical(y_train)\n",
    "\n",
    "x_val = np.array([x[0] for x in X_val_samples])\n",
    "y_val = np.array([x[1] for x in X_val_samples])\n",
    "\n",
    "y_val = labelizer.transform(y_val)\n",
    "y_val = to_categorical(y_val)\n",
    "\n",
    "x_test = np.array([x[0] for x in X_test_samples])\n",
    "y_test = np.array([x[1] for x in X_test_samples])\n",
    "\n",
    "y_test = labelizer.transform(y_test)\n",
    "y_test = to_categorical(y_test)"
   ]
  },
  {
   "cell_type": "code",
   "execution_count": 37,
   "metadata": {},
   "outputs": [],
   "source": [
    "from keras.callbacks import EarlyStopping"
   ]
  },
  {
   "cell_type": "code",
   "execution_count": 38,
   "metadata": {},
   "outputs": [],
   "source": [
    "earlystopper = EarlyStopping(patience=5)"
   ]
  },
  {
   "cell_type": "markdown",
   "metadata": {},
   "source": [
    "### Large number of epochs"
   ]
  },
  {
   "cell_type": "code",
   "execution_count": 39,
   "metadata": {
    "scrolled": false
   },
   "outputs": [
    {
     "name": "stdout",
     "output_type": "stream",
     "text": [
      "Train on 1296 samples, validate on 321 samples\n",
      "Epoch 1/25\n",
      "1296/1296 [==============================] - 38s 29ms/step - loss: 1.0605 - accuracy: 0.5378 - val_loss: 1.5644 - val_accuracy: 0.5327\n",
      "Epoch 2/25\n",
      "1296/1296 [==============================] - 36s 28ms/step - loss: 0.8602 - accuracy: 0.6026 - val_loss: 1.1111 - val_accuracy: 0.5452\n",
      "Epoch 3/25\n",
      "1296/1296 [==============================] - 38s 29ms/step - loss: 0.7789 - accuracy: 0.6211 - val_loss: 1.4034 - val_accuracy: 0.5327\n",
      "Epoch 4/25\n",
      "1296/1296 [==============================] - 37s 29ms/step - loss: 0.7712 - accuracy: 0.6242 - val_loss: 1.0767 - val_accuracy: 0.5483\n",
      "Epoch 5/25\n",
      "1296/1296 [==============================] - 35s 27ms/step - loss: 0.7705 - accuracy: 0.6373 - val_loss: 0.9638 - val_accuracy: 0.5607\n",
      "Epoch 6/25\n",
      "1296/1296 [==============================] - 35s 27ms/step - loss: 0.7536 - accuracy: 0.6628 - val_loss: 1.0135 - val_accuracy: 0.5607\n",
      "Epoch 7/25\n",
      "1296/1296 [==============================] - 35s 27ms/step - loss: 0.7095 - accuracy: 0.6798 - val_loss: 1.0269 - val_accuracy: 0.5607\n",
      "Epoch 8/25\n",
      "1296/1296 [==============================] - 33s 26ms/step - loss: 0.6965 - accuracy: 0.6852 - val_loss: 1.1193 - val_accuracy: 0.5545\n",
      "Epoch 9/25\n",
      "1296/1296 [==============================] - 37s 29ms/step - loss: 0.6524 - accuracy: 0.7037 - val_loss: 1.0197 - val_accuracy: 0.6044\n",
      "Epoch 10/25\n",
      "1296/1296 [==============================] - 35s 27ms/step - loss: 0.6512 - accuracy: 0.7091 - val_loss: 1.0563 - val_accuracy: 0.5857\n",
      "Epoch 11/25\n",
      "1296/1296 [==============================] - 37s 28ms/step - loss: 0.6402 - accuracy: 0.7307 - val_loss: 1.1235 - val_accuracy: 0.5576\n",
      "Epoch 12/25\n",
      "1296/1296 [==============================] - 33s 26ms/step - loss: 0.5857 - accuracy: 0.7477 - val_loss: 1.0377 - val_accuracy: 0.5607\n",
      "Epoch 13/25\n",
      "1296/1296 [==============================] - 33s 26ms/step - loss: 0.5642 - accuracy: 0.7755 - val_loss: 1.0077 - val_accuracy: 0.5763\n",
      "Epoch 14/25\n",
      "1296/1296 [==============================] - 29s 22ms/step - loss: 0.5577 - accuracy: 0.7739 - val_loss: 1.0241 - val_accuracy: 0.6012\n",
      "Epoch 15/25\n",
      "1296/1296 [==============================] - 23s 18ms/step - loss: 0.5184 - accuracy: 0.7924 - val_loss: 1.1660 - val_accuracy: 0.5981\n",
      "Epoch 16/25\n",
      "1296/1296 [==============================] - 23s 18ms/step - loss: 0.4982 - accuracy: 0.8140 - val_loss: 1.1518 - val_accuracy: 0.5763\n",
      "Epoch 17/25\n",
      "1296/1296 [==============================] - 23s 17ms/step - loss: 0.4654 - accuracy: 0.8156 - val_loss: 1.1542 - val_accuracy: 0.5950\n",
      "Epoch 18/25\n",
      "1296/1296 [==============================] - 23s 18ms/step - loss: 0.4122 - accuracy: 0.8434 - val_loss: 1.1117 - val_accuracy: 0.5981\n",
      "Epoch 19/25\n",
      "1296/1296 [==============================] - 23s 18ms/step - loss: 0.4150 - accuracy: 0.8465 - val_loss: 1.2541 - val_accuracy: 0.5981\n",
      "Epoch 20/25\n",
      "1296/1296 [==============================] - 23s 18ms/step - loss: 0.4117 - accuracy: 0.8418 - val_loss: 1.3259 - val_accuracy: 0.5981\n",
      "Epoch 21/25\n",
      "1296/1296 [==============================] - 23s 18ms/step - loss: 0.3637 - accuracy: 0.8681 - val_loss: 1.3677 - val_accuracy: 0.5950\n",
      "Epoch 22/25\n",
      "1296/1296 [==============================] - 24s 19ms/step - loss: 0.3555 - accuracy: 0.8719 - val_loss: 1.3385 - val_accuracy: 0.6044\n",
      "Epoch 23/25\n",
      "1296/1296 [==============================] - 23s 18ms/step - loss: 0.3307 - accuracy: 0.8819 - val_loss: 1.3793 - val_accuracy: 0.6012\n",
      "Epoch 24/25\n",
      "1296/1296 [==============================] - 23s 18ms/step - loss: 0.3233 - accuracy: 0.8819 - val_loss: 1.2782 - val_accuracy: 0.6199\n",
      "Epoch 25/25\n",
      "1296/1296 [==============================] - 17s 13ms/step - loss: 0.3464 - accuracy: 0.8642 - val_loss: 1.3391 - val_accuracy: 0.5732\n"
     ]
    }
   ],
   "source": [
    "#25 epochs\n",
    "history1 = model.fit(x_train, y_train, \n",
    "          batch_size= 8, \n",
    "          epochs=25,\n",
    "          verbose=1, \n",
    "          validation_data=(x_val, y_val))"
   ]
  },
  {
   "cell_type": "markdown",
   "metadata": {},
   "source": [
    "### Early Stopping"
   ]
  },
  {
   "cell_type": "code",
   "execution_count": 40,
   "metadata": {},
   "outputs": [
    {
     "name": "stdout",
     "output_type": "stream",
     "text": [
      "Train on 1296 samples, validate on 321 samples\n",
      "Epoch 1/25\n",
      "1296/1296 [==============================] - 14s 10ms/step - loss: 0.3042 - accuracy: 0.8989 - val_loss: 1.3704 - val_accuracy: 0.6075\n",
      "Epoch 2/25\n",
      "1296/1296 [==============================] - 13s 10ms/step - loss: 0.3179 - accuracy: 0.8881 - val_loss: 1.3968 - val_accuracy: 0.5670\n",
      "Epoch 3/25\n",
      "1296/1296 [==============================] - 13s 10ms/step - loss: 0.2693 - accuracy: 0.9028 - val_loss: 1.4392 - val_accuracy: 0.5763\n",
      "Epoch 4/25\n",
      "1296/1296 [==============================] - 12s 9ms/step - loss: 0.2621 - accuracy: 0.9066 - val_loss: 1.4271 - val_accuracy: 0.5888\n",
      "Epoch 5/25\n",
      "1296/1296 [==============================] - 12s 10ms/step - loss: 0.2659 - accuracy: 0.9120 - val_loss: 1.4660 - val_accuracy: 0.5639\n",
      "Epoch 6/25\n",
      "1296/1296 [==============================] - 13s 10ms/step - loss: 0.2696 - accuracy: 0.9159 - val_loss: 1.3802 - val_accuracy: 0.5919\n"
     ]
    }
   ],
   "source": [
    "history = model.fit(x_train, y_train, \n",
    "          batch_size= 8, \n",
    "          epochs=25,\n",
    "          verbose=1, \n",
    "          callbacks=[earlystopper],\n",
    "          validation_data=(x_val, y_val))"
   ]
  },
  {
   "cell_type": "markdown",
   "metadata": {},
   "source": [
    "---\n",
    "# Metrics analysis & Visualization"
   ]
  },
  {
   "cell_type": "code",
   "execution_count": 41,
   "metadata": {},
   "outputs": [],
   "source": [
    "from sklearn.metrics import confusion_matrix, plot_confusion_matrix"
   ]
  },
  {
   "cell_type": "markdown",
   "metadata": {},
   "source": [
    "### Large number of epochs"
   ]
  },
  {
   "cell_type": "code",
   "execution_count": 42,
   "metadata": {},
   "outputs": [
    {
     "name": "stdout",
     "output_type": "stream",
     "text": [
      "dict_keys(['val_loss', 'val_accuracy', 'loss', 'accuracy'])\n"
     ]
    },
    {
     "data": {
      "image/png": "[encoded data removed]",
      "text/plain": [
       "<Figure size 432x288 with 1 Axes>"
      ]
     },
     "metadata": {
      "needs_background": "light"
     },
     "output_type": "display_data"
    },
    {
     "data": {
      "image/png": "[encoded data removed]",
      "text/plain": [
       "<Figure size 432x288 with 1 Axes>"
      ]
     },
     "metadata": {
      "needs_background": "light"
     },
     "output_type": "display_data"
    }
   ],
   "source": [
    "# list all data in history\n",
    "print(history1.history.keys())\n",
    "# summarize history for accuracy\n",
    "plt.plot(history1.history['accuracy'])\n",
    "plt.plot(history1.history['val_accuracy'])\n",
    "plt.title('model accuracy')\n",
    "plt.ylabel('accuracy')\n",
    "plt.xlabel('epoch')\n",
    "plt.legend(['train', 'test'], loc='upper left')\n",
    "plt.show()\n",
    "# summarize history for loss\n",
    "plt.plot(history1.history['loss'])\n",
    "plt.plot(history1.history['val_loss'])\n",
    "plt.title('model loss')\n",
    "plt.ylabel('loss')\n",
    "plt.xlabel('epoch')\n",
    "plt.legend(['train', 'test'], loc='upper left')\n",
    "plt.show()"
   ]
  },
  {
   "cell_type": "markdown",
   "metadata": {},
   "source": [
    "### Early Stopping"
   ]
  },
  {
   "cell_type": "code",
   "execution_count": 43,
   "metadata": {
    "scrolled": false
   },
   "outputs": [
    {
     "name": "stdout",
     "output_type": "stream",
     "text": [
      "dict_keys(['val_loss', 'val_accuracy', 'loss', 'accuracy'])\n"
     ]
    },
    {
     "data": {
      "image/png": "[encoded data removed]",
      "text/plain": [
       "<Figure size 432x288 with 1 Axes>"
      ]
     },
     "metadata": {
      "needs_background": "light"
     },
     "output_type": "display_data"
    },
    {
     "data": {
      "image/png": "[encoded data removed]",
      "text/plain": [
       "<Figure size 432x288 with 1 Axes>"
      ]
     },
     "metadata": {
      "needs_background": "light"
     },
     "output_type": "display_data"
    }
   ],
   "source": [
    "# list all data in history\n",
    "print(history.history.keys())\n",
    "# summarize history for accuracy\n",
    "plt.plot(history.history['accuracy'])\n",
    "plt.plot(history.history['val_accuracy'])\n",
    "plt.title('model accuracy')\n",
    "plt.ylabel('accuracy')\n",
    "plt.xlabel('epoch')\n",
    "plt.legend(['train', 'test'], loc='upper left')\n",
    "plt.show()\n",
    "# summarize history for loss\n",
    "plt.plot(history.history['loss'])\n",
    "plt.plot(history.history['val_loss'])\n",
    "plt.title('model loss')\n",
    "plt.ylabel('loss')\n",
    "plt.xlabel('epoch')\n",
    "plt.legend(['train', 'test'], loc='upper left')\n",
    "plt.show()"
   ]
  },
  {
   "cell_type": "markdown",
   "metadata": {},
   "source": [
    "## BEST model: do evaluation"
   ]
  },
  {
   "cell_type": "code",
   "execution_count": 45,
   "metadata": {},
   "outputs": [
    {
     "name": "stdout",
     "output_type": "stream",
     "text": [
      "0.6033519553072626\n"
     ]
    }
   ],
   "source": [
    "predictions = model.predict(x_test)\n",
    "\n",
    "from sklearn.metrics import accuracy_score\n",
    "score = accuracy_score(labelizer.inverse_transform(y_test.argmax(axis=1)), labelizer.inverse_transform(predictions.argmax(axis=1)))\n",
    "\n",
    "print(score)\n",
    "\n",
    "\n",
    "\n",
    "matrix = confusion_matrix(labelizer.inverse_transform(y_test.argmax(axis=1)), \n",
    "                          labelizer.inverse_transform(predictions.argmax(axis=1)), \n",
    "                         labels=labelizer.classes_\n",
    "                         )\n",
    "\n",
    "matrix = pd.DataFrame(matrix, index=labelizer.classes_, columns=labelizer.classes_)"
   ]
  },
  {
   "cell_type": "code",
   "execution_count": 46,
   "metadata": {},
   "outputs": [],
   "source": [
    "import seaborn as sns\n",
    "fig, ax = plt.subplots(figsize=(10, 10))\n",
    "\n",
    "sns.heatmap(matrix, annot=True, fmt='.2f', linewidth=5, cmap='YlGnBu')\n",
    "ax.set_xlabel('Predictions')\n",
    "ax.set_ylabel('True values');"
   ]
  },
  {
   "cell_type": "code",
   "execution_count": null,
   "metadata": {},
   "outputs": [],
   "source": []
  },
  {
   "cell_type": "code",
   "execution_count": null,
   "metadata": {},
   "outputs": [],
   "source": []
  }
 ],
 "metadata": {
  "kernelspec": {
   "display_name": "Python 3",
   "language": "python",
   "name": "python3"
  },
  "language_info": {
   "codemirror_mode": {
    "name": "ipython",
    "version": 3
   },
   "file_extension": ".py",
   "mimetype": "text/x-python",
   "name": "python",
   "nbconvert_exporter": "python",
   "pygments_lexer": "ipython3",
   "version": "3.6.9"
  }
 },
 "nbformat": 4,
 "nbformat_minor": 2
}
